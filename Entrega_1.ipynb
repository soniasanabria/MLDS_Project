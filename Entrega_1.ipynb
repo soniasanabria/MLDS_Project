{
  "cells": [
    {
      "cell_type": "markdown",
      "id": "585dcbfa",
      "metadata": {
        "id": "585dcbfa"
      },
      "source": [
        "<img src = \"https://drive.google.com/uc?export=view&id=1qwLiiRwLcW04FUsVd7cC1vZ0MDjG3m2D\" alt = \"Encabezado MLDS\" width = \"100%\">  </img>"
      ]
    },
    {
      "cell_type": "markdown",
      "source": [
        "# **Proyecto**: predicción de fallas cardiacas"
      ],
      "metadata": {
        "id": "ytjE48GgW4H3"
      },
      "id": "ytjE48GgW4H3"
    },
    {
      "cell_type": "markdown",
      "id": "7a974ec1",
      "metadata": {
        "id": "7a974ec1"
      },
      "source": [
        "### **1.1. Objetivo e importancia**\n",
        "---\n",
        "El proyecto está enmarcado en el sector de la salud y específicamente orientado a clasificar si es o no probable que una persona presente falla cardiaca dependiendo de ciertas características como edad, sexo, si realiza o no ejercicio, niveles de presión arterial, colesterol, azúcar en ayunas, ritmo cariago y el tipo de dolor que experimenta, entre otras.\n",
        "\n",
        "El proyecto puede ser útil para todos los actores del sector de la salud, considerando el alto impacto de esta enfermedad como causa de muerte globalmente, así: \n",
        "- Médicos: tendrán una herramienta de apoyo diagnóstico que reducirá el tiempo que les toma diagnosticar y tratar un ataque al corazón\n",
        "- Pacientes: podrán recibir diagnóstico y tratamiento en menor tiempo\n",
        "- Sistema de salud en general: podría salvarse un mayor número de vidas con una atención rápida y eficiente"
      ]
    },
    {
      "cell_type": "markdown",
      "id": "d09c63e5",
      "metadata": {
        "id": "d09c63e5"
      },
      "source": [
        "### **1.2. Alcance**\n",
        "---\n",
        "Se diseñará e implementará un modelo de clasificación supervisado, considerando que cada registro tiene un label que corresponde con la categoría si hay falla cardiaca o no hay falla cardiaca"
      ]
    },
    {
      "cell_type": "markdown",
      "source": [
        "### **1.3. Origen de los datos**\n",
        "---\n",
        "Tipo de datos: archivo csv\n",
        "\n",
        "Cantidad: 918 registros\n",
        "\n",
        "La base de datos está disponible en este sitio web:\n",
        "\n",
        "https://www.kaggle.com/datasets/fedesoriano/heart-failure-prediction\n"
      ],
      "metadata": {
        "id": "S4oyDBUICpUe"
      },
      "id": "S4oyDBUICpUe"
    },
    {
      "cell_type": "markdown",
      "source": [
        "### **1.4. Resultados esperados**\n",
        "---\n",
        "Lograr predecir la existencia de falla cardiaca con una precisión mayor al 92%. El nivel de precisión requerido es alto dada la sensibilidad del tema y la gravedad de las consecuencias en caso de fallo en el diagnóstico."
      ],
      "metadata": {
        "id": "Z-64KQrKCuWA"
      },
      "id": "Z-64KQrKCuWA"
    },
    {
      "cell_type": "markdown",
      "id": "370e4a5d",
      "metadata": {
        "id": "370e4a5d"
      },
      "source": [
        "### **1.5. Plan**\n",
        "---\n",
        "\n",
        "Las actividades se organizarán alrededor de los siguientes grandes componentes:\n",
        "\n",
        "i. Cargue y entendimiento de los datos, incluyendo el etiquetado de las imágenes: 3 horas\n",
        "\n",
        "ii. Limpieza de datos: no requiere ya que de la base publicada ya se removieron las imágenes de baja calidad o ilegibles y ya fue verificada por expertos en el tema\n",
        "\n",
        "iii. Selección del modelo: 2 horas\n",
        "\n",
        "iv. Definición del modelo: 2 horas\n",
        "\n",
        "v. Compilación del modelo: 2 horas\n",
        "\n",
        "vi. Evaluación del modelo: 2 horas \n",
        "\n",
        "vii. Ajuste del modelo y sus hiperparámetros, así como uso de modelos alternativos, para lo que se repetirá el ciclo anterior hasta obtener el modelo más óptimo \n"
      ]
    },
    {
      "cell_type": "markdown",
      "id": "2c5f8274",
      "metadata": {
        "id": "2c5f8274"
      },
      "source": [
        "### **1.5. Equipo de trabajo**\n",
        "---\n",
        "El proyecto será desarrollado por Sonia Esperanza Sanabria data scientist junior y supervisado por equipo investigador Instituto de investigación en salud vive (ejercicio académico)."
      ]
    },
    {
      "cell_type": "markdown",
      "source": [
        "### **1.6. Presupuesto**\n",
        "---\n",
        "Equivaldrá a la remuneración del data scientist junior por 3 meses y del equipo supervisor por el número de horas de dedicación."
      ],
      "metadata": {
        "id": "3t31QvSJDVz3"
      },
      "id": "3t31QvSJDVz3"
    },
    {
      "cell_type": "markdown",
      "source": [
        "### **1.7. Stakeholders**\n",
        "---\n",
        "- Médicos: tendrán una herramienta de apoyo diagnóstico que reducirá el tiempo que les toma diagnosticar y tratar un ataque al corazón\n",
        "- Pacientes: podrán recibir diagnóstico y tratamiento en menor tiempo\n",
        "- Sistema de salud en general: podría salvarse un mayor número de vidas con una atención rápida y eficiente"
      ],
      "metadata": {
        "id": "ta1MDOIpDXH-"
      },
      "id": "ta1MDOIpDXH-"
    },
    {
      "cell_type": "markdown",
      "source": [
        "### **1.8. Aprobación**\n",
        "---\n",
        "Instituto de investigación en salud vive (ejercicio académico)."
      ],
      "metadata": {
        "id": "myPDx5MPDYTw"
      },
      "id": "myPDx5MPDYTw"
    }
  ],
  "metadata": {
    "jupytext": {
      "cell_metadata_filter": "-all"
    },
    "kernelspec": {
      "display_name": "Python 3 (ipykernel)",
      "language": "python",
      "name": "python3"
    },
    "colab": {
      "provenance": []
    }
  },
  "nbformat": 4,
  "nbformat_minor": 5
}