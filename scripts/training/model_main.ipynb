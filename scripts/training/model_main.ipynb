{
 "cells": [
  {
   "attachments": {},
   "cell_type": "markdown",
   "metadata": {},
   "source": [
    "Carga de los datos"
   ]
  },
  {
   "cell_type": "code",
   "execution_count": 13,
   "metadata": {},
   "outputs": [],
   "source": [
    "import sys\n",
    "import os\n",
    "\n",
    "# Modify the system path to include the \"src\" folder\n",
    "sys.path.append('E:\\Personal\\Machine Learning\\MLDS-UNAL\\Metodologías_ÁgilesML\\Proyecto_entrega\\src\\preprocessing')\n",
    "import preproces as prepo"
   ]
  },
  {
   "cell_type": "code",
   "execution_count": 14,
   "metadata": {},
   "outputs": [],
   "source": [
    "wild_fire_final = prepo.load_data('E:\\Personal\\Machine Learning\\MLDS-UNAL\\Metodologías_ÁgilesML\\Proyecto_entrega\\scripts\\preprocesing\\insumo_preprocesado.csv')"
   ]
  },
  {
   "cell_type": "code",
   "execution_count": 15,
   "metadata": {},
   "outputs": [
    {
     "data": {
      "text/plain": [
       "1438"
      ]
     },
     "execution_count": 15,
     "metadata": {},
     "output_type": "execute_result"
    }
   ],
   "source": [
    "len(wild_fire_final)"
   ]
  },
  {
   "cell_type": "code",
   "execution_count": 16,
   "metadata": {},
   "outputs": [
    {
     "data": {
      "text/plain": [
       "Index(['NDVI', 'LST', 'BURNED_AREA', 'CLASS', 'labels'], dtype='object')"
      ]
     },
     "execution_count": 16,
     "metadata": {},
     "output_type": "execute_result"
    }
   ],
   "source": [
    "wild_fire_final.columns"
   ]
  },
  {
   "cell_type": "code",
   "execution_count": 17,
   "metadata": {},
   "outputs": [],
   "source": [
    "sys.path.append('E:\\Personal\\Machine Learning\\MLDS-UNAL\\Metodologías_ÁgilesML\\Proyecto_entrega\\src\\\\training')\n",
    "import train as tr"
   ]
  },
  {
   "cell_type": "code",
   "execution_count": 18,
   "metadata": {},
   "outputs": [
    {
     "name": "stdout",
     "output_type": "stream",
     "text": [
      "labels\n",
      "1    1109\n",
      "0     329\n",
      "Name: count, dtype: int64\n"
     ]
    }
   ],
   "source": [
    "class_counts = wild_fire_final['labels'].value_counts()\n",
    "print(class_counts)"
   ]
  },
  {
   "cell_type": "code",
   "execution_count": 19,
   "metadata": {},
   "outputs": [],
   "source": [
    "X_train, X_test, y_train, y_test = tr.split(wild_fire_final)"
   ]
  },
  {
   "cell_type": "code",
   "execution_count": 20,
   "metadata": {},
   "outputs": [
    {
     "name": "stdout",
     "output_type": "stream",
     "text": [
      "          NDVI           LST  BURNED_AREA\n",
      "1429  0.488384  14947.833333     4.666667\n",
      "542   0.515754  14163.603143     4.763458\n",
      "1     0.522150  14655.833333     5.000000\n",
      "29    0.602972  14809.315789     5.000000\n",
      "511   0.588574  13913.000000     4.568627\n",
      "...        ...           ...          ...\n",
      "56    0.573026  14721.000000     5.000000\n",
      "537   0.659630  14918.000000     5.000000\n",
      "1420  0.585481  14526.900000     4.200000\n",
      "404   0.589150  14143.500000     4.888889\n",
      "1068  0.645005  14932.608696     4.971014\n",
      "\n",
      "[1006 rows x 3 columns]\n"
     ]
    }
   ],
   "source": [
    "print(X_train)"
   ]
  },
  {
   "attachments": {},
   "cell_type": "markdown",
   "metadata": {},
   "source": [
    "Entrenamiento del modelo"
   ]
  },
  {
   "cell_type": "code",
   "execution_count": 21,
   "metadata": {},
   "outputs": [],
   "source": [
    "wf_rbf_svm, y_pred = tr.train_model(X_train, y_train, 10, 10, X_test)\n"
   ]
  },
  {
   "cell_type": "code",
   "execution_count": 22,
   "metadata": {},
   "outputs": [
    {
     "name": "stdout",
     "output_type": "stream",
     "text": [
      "             Valor predicho     \n",
      "                          0    1\n",
      "Valor real 0              5   94\n",
      "           1              8  325\n"
     ]
    }
   ],
   "source": [
    "conf_matrix = tr.list_confusion_matrix(wild_fire_final, y_test, y_pred)\n",
    "print(conf_matrix)"
   ]
  },
  {
   "cell_type": "code",
   "execution_count": 23,
   "metadata": {},
   "outputs": [
    {
     "name": "stdout",
     "output_type": "stream",
     "text": [
      "              precision    recall  f1-score   support\n",
      "\n",
      "           0       0.38      0.05      0.09        99\n",
      "           1       0.78      0.98      0.86       333\n",
      "\n",
      "    accuracy                           0.76       432\n",
      "   macro avg       0.58      0.51      0.48       432\n",
      "weighted avg       0.69      0.76      0.69       432\n",
      "\n"
     ]
    }
   ],
   "source": [
    "class_report = tr.classification_report(y_test, y_pred)\n",
    "print(class_report)"
   ]
  },
  {
   "cell_type": "code",
   "execution_count": 24,
   "metadata": {},
   "outputs": [],
   "source": [
    "file_serialized = tr.serialize_model(wf_rbf_svm)"
   ]
  }
 ],
 "metadata": {
  "kernelspec": {
   "display_name": "Python 3",
   "language": "python",
   "name": "python3"
  },
  "language_info": {
   "codemirror_mode": {
    "name": "ipython",
    "version": 3
   },
   "file_extension": ".py",
   "mimetype": "text/x-python",
   "name": "python",
   "nbconvert_exporter": "python",
   "pygments_lexer": "ipython3",
   "version": "3.11.4"
  },
  "orig_nbformat": 4
 },
 "nbformat": 4,
 "nbformat_minor": 2
}
