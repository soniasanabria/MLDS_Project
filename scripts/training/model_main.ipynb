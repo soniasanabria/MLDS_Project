{
 "cells": [
  {
   "attachments": {},
   "cell_type": "markdown",
   "metadata": {},
   "source": [
    "Carga de los datos"
   ]
  },
  {
   "cell_type": "code",
   "execution_count": 1,
   "metadata": {},
   "outputs": [],
   "source": [
    "import sys\n",
    "import os\n",
    "\n",
    "# Modify the system path to include the \"src\" folder\n",
    "sys.path.append('E:\\Personal\\Machine Learning\\MLDS-UNAL\\Metodologías_ÁgilesML\\Proyecto_entrega\\src\\preprocessing')\n",
    "import preproces as prepo"
   ]
  },
  {
   "cell_type": "code",
   "execution_count": 2,
   "metadata": {},
   "outputs": [],
   "source": [
    "wild_fire_final = prepo.load_data('E:\\Personal\\Machine Learning\\MLDS-UNAL\\Metodologías_ÁgilesML\\Proyecto_entrega\\scripts\\preprocesing\\insumo_preprocesado.csv')"
   ]
  },
  {
   "cell_type": "code",
   "execution_count": 3,
   "metadata": {},
   "outputs": [
    {
     "data": {
      "text/plain": [
       "1438"
      ]
     },
     "execution_count": 3,
     "metadata": {},
     "output_type": "execute_result"
    }
   ],
   "source": [
    "len(wild_fire_final)"
   ]
  },
  {
   "cell_type": "code",
   "execution_count": 4,
   "metadata": {},
   "outputs": [
    {
     "data": {
      "text/plain": [
       "Index(['NDVI', 'LST', 'BURNED_AREA', 'CLASS', 'labels'], dtype='object')"
      ]
     },
     "execution_count": 4,
     "metadata": {},
     "output_type": "execute_result"
    }
   ],
   "source": [
    "wild_fire_final.columns"
   ]
  },
  {
   "cell_type": "code",
   "execution_count": 5,
   "metadata": {},
   "outputs": [],
   "source": [
    "sys.path.append('E:\\Personal\\Machine Learning\\MLDS-UNAL\\Metodologías_ÁgilesML\\Proyecto_entrega\\src\\\\training')\n",
    "import train as tr"
   ]
  },
  {
   "cell_type": "code",
   "execution_count": 6,
   "metadata": {},
   "outputs": [
    {
     "name": "stdout",
     "output_type": "stream",
     "text": [
      "labels\n",
      "1    1109\n",
      "0     329\n",
      "Name: count, dtype: int64\n"
     ]
    }
   ],
   "source": [
    "class_counts = wild_fire_final['labels'].value_counts()\n",
    "print(class_counts)"
   ]
  },
  {
   "cell_type": "code",
   "execution_count": 7,
   "metadata": {},
   "outputs": [],
   "source": [
    "X_train, X_test, y_train, y_test = tr.split(wild_fire_final)"
   ]
  },
  {
   "cell_type": "code",
   "execution_count": 8,
   "metadata": {},
   "outputs": [
    {
     "name": "stdout",
     "output_type": "stream",
     "text": [
      "          NDVI           LST  BURNED_AREA\n",
      "1233  0.492228  14557.354730     4.933116\n",
      "28    0.543882  15283.000000     5.000000\n",
      "467   0.616928  14577.000000     5.000000\n",
      "276   0.596937  14722.000000     3.666667\n",
      "241   0.631150  15228.000000     5.000000\n",
      "1202  0.544405  14725.585366     4.292754\n",
      "1339  0.578944  14837.401709     5.382813\n",
      "961   0.621186  14121.526316     4.913043\n",
      "538   0.594617  14943.000000     4.000000\n",
      "788   0.616065  14184.625000     4.913043\n",
      "656   0.532194  14633.000000     3.000000\n",
      "1043  0.432677  13877.000000     3.901376\n",
      "1195  0.397402  14310.875000     4.495122\n",
      "32    0.713023  14932.363636     5.000000\n",
      "1221  0.644146  13736.181818     4.955375\n",
      "315   0.556909  14524.333333     5.000000\n",
      "424   0.600742  14700.000000     3.000000\n",
      "285   0.702344  14662.932011     4.438710\n",
      "1427  0.624665  14782.714286     3.571429\n",
      "779   0.554080  14761.666667     4.962963\n",
      "1214  0.465678  14964.315789     4.811634\n",
      "1233    1\n",
      "28      1\n",
      "467     1\n",
      "276     1\n",
      "241     1\n",
      "1202    0\n",
      "1339    0\n",
      "961     1\n",
      "538     1\n",
      "788     1\n",
      "Name: labels, dtype: int64\n"
     ]
    }
   ],
   "source": [
    "print(X_test.head(21))\n",
    "print(y_test.head(10))"
   ]
  },
  {
   "attachments": {},
   "cell_type": "markdown",
   "metadata": {},
   "source": [
    "Entrenamiento del modelo"
   ]
  },
  {
   "cell_type": "code",
   "execution_count": 9,
   "metadata": {},
   "outputs": [],
   "source": [
    "wf_rbf_svm, y_pred = tr.train_model(X_train, y_train, 10, 10, X_test)\n"
   ]
  },
  {
   "cell_type": "code",
   "execution_count": 11,
   "metadata": {},
   "outputs": [
    {
     "name": "stdout",
     "output_type": "stream",
     "text": [
      "             Valor predicho     \n",
      "                          0    1\n",
      "Valor real 0              5   94\n",
      "           1              8  325\n"
     ]
    }
   ],
   "source": [
    "conf_matrix = tr.list_confusion_matrix(wild_fire_final, y_test, y_pred)\n",
    "print(conf_matrix)"
   ]
  },
  {
   "cell_type": "code",
   "execution_count": 12,
   "metadata": {},
   "outputs": [
    {
     "name": "stdout",
     "output_type": "stream",
     "text": [
      "              precision    recall  f1-score   support\n",
      "\n",
      "           0       0.38      0.05      0.09        99\n",
      "           1       0.78      0.98      0.86       333\n",
      "\n",
      "    accuracy                           0.76       432\n",
      "   macro avg       0.58      0.51      0.48       432\n",
      "weighted avg       0.69      0.76      0.69       432\n",
      "\n"
     ]
    }
   ],
   "source": [
    "class_report = tr.classification_report(y_test, y_pred)\n",
    "print(class_report)"
   ]
  },
  {
   "cell_type": "code",
   "execution_count": 13,
   "metadata": {},
   "outputs": [],
   "source": [
    "file_serialized = tr.serialize_model(wf_rbf_svm)"
   ]
  }
 ],
 "metadata": {
  "kernelspec": {
   "display_name": "Python 3",
   "language": "python",
   "name": "python3"
  },
  "language_info": {
   "codemirror_mode": {
    "name": "ipython",
    "version": 3
   },
   "file_extension": ".py",
   "mimetype": "text/x-python",
   "name": "python",
   "nbconvert_exporter": "python",
   "pygments_lexer": "ipython3",
   "version": "3.11.4"
  },
  "orig_nbformat": 4
 },
 "nbformat": 4,
 "nbformat_minor": 2
}
