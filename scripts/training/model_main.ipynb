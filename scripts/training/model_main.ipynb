{
 "cells": [
  {
   "attachments": {},
   "cell_type": "markdown",
   "metadata": {},
   "source": [
    "Carga de los datos"
   ]
  },
  {
   "cell_type": "code",
   "execution_count": 1,
   "metadata": {},
   "outputs": [],
   "source": [
    "import sys\n",
    "import os\n",
    "\n",
    "# Modify the system path to include the \"src\" folder\n",
    "sys.path.append('E:\\Personal\\Machine Learning\\MLDS-UNAL\\Metodologías_ÁgilesML\\Proyecto_entrega\\src\\preprocessing')\n",
    "import preproces as prepo"
   ]
  },
  {
   "cell_type": "code",
   "execution_count": 2,
   "metadata": {},
   "outputs": [],
   "source": [
    "wild_fire_final = prepo.load_data('E:\\Personal\\Machine Learning\\MLDS-UNAL\\Metodologías_ÁgilesML\\Proyecto_entrega\\scripts\\preprocesing\\insumo_preprocesado.csv')"
   ]
  },
  {
   "cell_type": "code",
   "execution_count": 3,
   "metadata": {},
   "outputs": [
    {
     "data": {
      "text/plain": [
       "1438"
      ]
     },
     "execution_count": 3,
     "metadata": {},
     "output_type": "execute_result"
    }
   ],
   "source": [
    "len(wild_fire_final)"
   ]
  },
  {
   "cell_type": "code",
   "execution_count": 4,
   "metadata": {},
   "outputs": [],
   "source": [
    "sys.path.append('E:\\Personal\\Machine Learning\\MLDS-UNAL\\Metodologías_ÁgilesML\\Proyecto_entrega\\src\\\\training')\n",
    "import train as tr"
   ]
  },
  {
   "cell_type": "code",
   "execution_count": 5,
   "metadata": {},
   "outputs": [
    {
     "data": {
      "text/plain": [
       "(          NDVI           LST  BURNED_AREA    CLASS\n",
       " 1429  0.488384  14947.833333     4.666667  no_fire\n",
       " 542   0.515754  14163.603143     4.763458  no_fire\n",
       " 1     0.522150  14655.833333     5.000000  no_fire\n",
       " 29    0.602972  14809.315789     5.000000  no_fire\n",
       " 511   0.588574  13913.000000     4.568627  no_fire\n",
       " ...        ...           ...          ...      ...\n",
       " 56    0.573026  14721.000000     5.000000  no_fire\n",
       " 537   0.659630  14918.000000     5.000000  no_fire\n",
       " 1420  0.585481  14526.900000     4.200000  no_fire\n",
       " 404   0.589150  14143.500000     4.888889  no_fire\n",
       " 1068  0.645005  14932.608696     4.971014  no_fire\n",
       " \n",
       " [1006 rows x 4 columns],\n",
       "           NDVI           LST  BURNED_AREA    CLASS\n",
       " 1233  0.492228  14557.354730     4.933116  no_fire\n",
       " 28    0.543882  15283.000000     5.000000  no_fire\n",
       " 467   0.616928  14577.000000     5.000000  no_fire\n",
       " 276   0.596937  14722.000000     3.666667  no_fire\n",
       " 241   0.631150  15228.000000     5.000000  no_fire\n",
       " ...        ...           ...          ...      ...\n",
       " 952   0.633343  14154.888889     5.000000  no_fire\n",
       " 399   0.508593  14919.154150     5.229917     fire\n",
       " 132   0.645072  14845.000000     5.000000  no_fire\n",
       " 1096  0.555819  14777.600000     4.868852  no_fire\n",
       " 1218  0.544498  14395.500000     5.000000  no_fire\n",
       " \n",
       " [432 rows x 4 columns],\n",
       " 1429    1\n",
       " 542     1\n",
       " 1       1\n",
       " 29      1\n",
       " 511     1\n",
       "        ..\n",
       " 56      1\n",
       " 537     1\n",
       " 1420    1\n",
       " 404     1\n",
       " 1068    1\n",
       " Name: labels, Length: 1006, dtype: int64,\n",
       " 1233    1\n",
       " 28      1\n",
       " 467     1\n",
       " 276     1\n",
       " 241     1\n",
       "        ..\n",
       " 952     1\n",
       " 399     0\n",
       " 132     1\n",
       " 1096    1\n",
       " 1218    1\n",
       " Name: labels, Length: 432, dtype: int64)"
      ]
     },
     "execution_count": 5,
     "metadata": {},
     "output_type": "execute_result"
    }
   ],
   "source": [
    "tr.split(wild_fire_final)"
   ]
  },
  {
   "attachments": {},
   "cell_type": "markdown",
   "metadata": {},
   "source": [
    "Entrenamiento del modelo"
   ]
  },
  {
   "cell_type": "code",
   "execution_count": 6,
   "metadata": {},
   "outputs": [
    {
     "ename": "NameError",
     "evalue": "name 'X_train' is not defined",
     "output_type": "error",
     "traceback": [
      "\u001b[1;31m---------------------------------------------------------------------------\u001b[0m",
      "\u001b[1;31mNameError\u001b[0m                                 Traceback (most recent call last)",
      "Cell \u001b[1;32mIn[6], line 5\u001b[0m\n\u001b[0;32m      1\u001b[0m \u001b[39mfrom\u001b[39;00m \u001b[39msklearn\u001b[39;00m \u001b[39mimport\u001b[39;00m svm\n\u001b[0;32m      2\u001b[0m wf_rbf_svm \u001b[39m=\u001b[39m svm\u001b[39m.\u001b[39mSVC(kernel\u001b[39m=\u001b[39m\u001b[39m'\u001b[39m\u001b[39mrbf\u001b[39m\u001b[39m'\u001b[39m, \n\u001b[0;32m      3\u001b[0m                     gamma \u001b[39m=\u001b[39m \u001b[39m5\u001b[39m)  \n\u001b[1;32m----> 5\u001b[0m wf_rbf_svm\u001b[39m.\u001b[39mfit(X_train, y_train);\n\u001b[0;32m      6\u001b[0m y_pred_svm \u001b[39m=\u001b[39m wf_rbf_svm\u001b[39m.\u001b[39mpredict(X_test)\n",
      "\u001b[1;31mNameError\u001b[0m: name 'X_train' is not defined"
     ]
    }
   ],
   "source": [
    "from sklearn import svm\n",
    "wf_rbf_svm = svm.SVC(kernel='rbf', \n",
    "                    gamma = 5)  \n",
    "\n",
    "wf_rbf_svm.fit(X_train, y_train);\n",
    "y_pred_svm = wf_rbf_svm.predict(X_test)"
   ]
  }
 ],
 "metadata": {
  "kernelspec": {
   "display_name": "Python 3",
   "language": "python",
   "name": "python3"
  },
  "language_info": {
   "codemirror_mode": {
    "name": "ipython",
    "version": 3
   },
   "file_extension": ".py",
   "mimetype": "text/x-python",
   "name": "python",
   "nbconvert_exporter": "python",
   "pygments_lexer": "ipython3",
   "version": "3.11.4"
  },
  "orig_nbformat": 4
 },
 "nbformat": 4,
 "nbformat_minor": 2
}
